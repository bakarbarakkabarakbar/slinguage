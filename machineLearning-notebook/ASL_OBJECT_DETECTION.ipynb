{
  "nbformat": 4,
  "nbformat_minor": 0,
  "metadata": {
    "accelerator": "GPU",
    "colab": {
      "name": "ASL OBJECT DETECTION.ipynb",
      "provenance": [],
      "collapsed_sections": []
    },
    "kernelspec": {
      "display_name": "Python 3",
      "name": "python3"
    },
    "language_info": {
      "name": "python"
    }
  },
  "cells": [
    {
      "cell_type": "markdown",
      "metadata": {
        "id": "XouwX0iXjETE"
      },
      "source": [
        "SETUP"
      ]
    },
    {
      "cell_type": "code",
      "metadata": {
        "id": "uJP_uIQ_i9Bj"
      },
      "source": [
        "!pip install -q tflite-model-maker\n",
        "!pip install -q pycocotools"
      ],
      "execution_count": null,
      "outputs": []
    },
    {
      "cell_type": "code",
      "metadata": {
        "id": "fCLu6ZMsryqP"
      },
      "source": [
        "import numpy as np\n",
        "import os\n",
        "\n",
        "from tflite_model_maker.config import ExportFormat\n",
        "from tflite_model_maker import model_spec\n",
        "from tflite_model_maker import object_detector\n",
        "\n",
        "import tensorflow as tf\n",
        "assert tf.__version__.startswith('2')\n",
        "\n",
        "tf.get_logger().setLevel('ERROR')\n",
        "from absl import logging\n",
        "logging.set_verbosity(logging.ERROR)"
      ],
      "execution_count": null,
      "outputs": []
    },
    {
      "cell_type": "markdown",
      "metadata": {
        "id": "hvA3qSZqjLhw"
      },
      "source": [
        "Buat folder tempat csv"
      ]
    },
    {
      "cell_type": "code",
      "metadata": {
        "id": "7I8JMCuijuhk"
      },
      "source": [
        "!mkdir files"
      ],
      "execution_count": null,
      "outputs": []
    },
    {
      "cell_type": "markdown",
      "metadata": {
        "id": "8ZSjOFjPjQMl"
      },
      "source": [
        "Upload File Gambar ASL"
      ]
    },
    {
      "cell_type": "code",
      "metadata": {
        "id": "UcPKes6kzMfG"
      },
      "source": [
        "from google.colab import files\n",
        "files.upload()"
      ],
      "execution_count": null,
      "outputs": []
    },
    {
      "cell_type": "markdown",
      "metadata": {
        "id": "uBNgVa8KjZj_"
      },
      "source": [
        "Pindah File CSV ke dalam folder files"
      ]
    },
    {
      "cell_type": "code",
      "metadata": {
        "id": "0PMJpkS1IiUm"
      },
      "source": [
        "!mkdir files\n",
        "import shutil\n",
        "shutil.move(\"/content/1asl_normalisasi.csv\",\"/content/files/\")"
      ],
      "execution_count": null,
      "outputs": []
    },
    {
      "cell_type": "markdown",
      "metadata": {
        "id": "XqOMcJxcjeMS"
      },
      "source": [
        "Pilih custom model"
      ]
    },
    {
      "cell_type": "code",
      "metadata": {
        "id": "1Ly0-PhejWqp"
      },
      "source": [
        "spec = model_spec.get('efficientdet_lite0')"
      ],
      "execution_count": null,
      "outputs": []
    },
    {
      "cell_type": "markdown",
      "metadata": {
        "id": "jFEeeMYhjg3s"
      },
      "source": [
        "Split Data"
      ]
    },
    {
      "cell_type": "code",
      "metadata": {
        "id": "mF9GlMczsCFN"
      },
      "source": [
        "train_data, validation_data, test_data = object_detector.DataLoader.from_csv('/content/files/1asl_normalisasi.csv')"
      ],
      "execution_count": null,
      "outputs": []
    },
    {
      "cell_type": "markdown",
      "metadata": {
        "id": "j__aNDCQjilL"
      },
      "source": [
        "Train"
      ]
    },
    {
      "cell_type": "code",
      "metadata": {
        "id": "ECm1jsc9sM6J"
      },
      "source": [
        "#model = object_detector.create(train_data, model_spec=spec, batch_size=8, train_whole_model=True, validation_data=validation_data)\n",
        "model = object_detector.create(train_data, model_spec=spec, batch_size=16, epochs=10, validation_data=validation_data)"
      ],
      "execution_count": null,
      "outputs": []
    },
    {
      "cell_type": "markdown",
      "metadata": {
        "id": "zkpXVFWMjngX"
      },
      "source": [
        "Export Model"
      ]
    },
    {
      "cell_type": "code",
      "metadata": {
        "colab": {
          "background_save": true
        },
        "id": "s-raQaB6BdYJ"
      },
      "source": [
        "model.export(export_dir='.')"
      ],
      "execution_count": null,
      "outputs": []
    },
    {
      "cell_type": "markdown",
      "metadata": {
        "id": "lyS2I1SRjrJN"
      },
      "source": [
        "Evaluate Model"
      ]
    },
    {
      "cell_type": "code",
      "metadata": {
        "id": "qNS2k4aRBw4w"
      },
      "source": [
        "model.evaluate_tflite('model.tflite', test_data)"
      ],
      "execution_count": null,
      "outputs": []
    },
    {
      "cell_type": "markdown",
      "metadata": {
        "id": "VmLyMJfKjtv0"
      },
      "source": [
        "Test Model"
      ]
    },
    {
      "cell_type": "code",
      "metadata": {
        "id": "2IIaffF5B78K"
      },
      "source": [
        "from google.colab import files\n",
        "files.download('model.tflite')"
      ],
      "execution_count": null,
      "outputs": []
    }
  ]
}