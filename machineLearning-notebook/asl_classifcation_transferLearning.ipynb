{
  "nbformat": 4,
  "nbformat_minor": 0,
  "metadata": {
    "accelerator": "GPU",
    "colab": {
      "name": "asl_classifcation_transferLearning.ipynb",
      "provenance": [],
      "toc_visible": true
    },
    "kernelspec": {
      "display_name": "Python 3",
      "language": "python",
      "name": "python3"
    },
    "language_info": {
      "codemirror_mode": {
        "name": "ipython",
        "version": 3
      },
      "file_extension": ".py",
      "mimetype": "text/x-python",
      "name": "python",
      "nbconvert_exporter": "python",
      "pygments_lexer": "ipython3",
      "version": "3.7.6"
    },
    "papermill": {
      "duration": 1036.37613,
      "end_time": "2021-05-17T14:43:56.110865",
      "environment_variables": {},
      "exception": null,
      "input_path": "__notebook__.ipynb",
      "output_path": "__notebook__.ipynb",
      "parameters": {},
      "start_time": "2021-05-17T14:26:39.734735",
      "version": "2.1.0"
    }
  },
  "cells": [
    {
      "cell_type": "markdown",
      "metadata": {
        "id": "eACdZyIr7za8"
      },
      "source": [
        "<h2>Sign Language Classifcation - B21-CAP0444 (Slinguage) </h2>\n",
        "<h3>Notebook model transfer learning di bawah ini di deploy kedalam google cloud</h3>\n",
        "\n"
      ]
    },
    {
      "cell_type": "markdown",
      "metadata": {
        "id": "5FtLmSwK7za_"
      },
      "source": [
        "### Importing packages <a id=1></a>\n",
        "\n"
      ]
    },
    {
      "cell_type": "code",
      "metadata": {
        "colab": {
          "base_uri": "https://localhost:8080/"
        },
        "id": "F4-HUlKb7za_",
        "outputId": "ee05ecb7-1021-4f53-e73d-8d62efd769a4"
      },
      "source": [
        "# import data processing and visualisation libraries\n",
        "import numpy as np\n",
        "import pandas as pd\n",
        "import seaborn as sns\n",
        "import matplotlib.pyplot as plt\n",
        "%matplotlib inline\n",
        "\n",
        "# import image processing libraries\n",
        "import cv2\n",
        "import skimage\n",
        "from skimage.transform import resize\n",
        "\n",
        "# import tensorflow and keras\n",
        "import tensorflow as tf\n",
        "from tensorflow import keras\n",
        "import os\n",
        "\n",
        "print(\"Packages imported...\")"
      ],
      "execution_count": null,
      "outputs": [
        {
          "output_type": "stream",
          "text": [
            "Packages imported...\n"
          ],
          "name": "stdout"
        }
      ]
    },
    {
      "cell_type": "markdown",
      "metadata": {
        "id": "SZaj3UgF23aJ"
      },
      "source": [
        "### Importing Dataset Kaggle <a id=1></a>\n",
        "#### Note anda membutuh kan json api dari akun kaggle anda\n"
      ]
    },
    {
      "cell_type": "code",
      "metadata": {
        "colab": {
          "resources": {
            "http://localhost:8080/nbextensions/google.colab/files.js": {
              "data": "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",
              "ok": true,
              "headers": [
                [
                  "content-type",
                  "application/javascript"
                ]
              ],
              "status": 200,
              "status_text": ""
            }
          },
          "base_uri": "https://localhost:8080/",
          "height": 89
        },
        "id": "Bw57R4Hx75oc",
        "outputId": "ab27d434-fae1-4eae-a24e-d62ee6923d03"
      },
      "source": [
        "from google.colab import files\n",
        "files.upload()"
      ],
      "execution_count": null,
      "outputs": [
        {
          "output_type": "display_data",
          "data": {
            "text/html": [
              "\n",
              "     <input type=\"file\" id=\"files-41a39684-56d4-4690-ae71-ab4aa265eff9\" name=\"files[]\" multiple disabled\n",
              "        style=\"border:none\" />\n",
              "     <output id=\"result-41a39684-56d4-4690-ae71-ab4aa265eff9\">\n",
              "      Upload widget is only available when the cell has been executed in the\n",
              "      current browser session. Please rerun this cell to enable.\n",
              "      </output>\n",
              "      <script src=\"/nbextensions/google.colab/files.js\"></script> "
            ],
            "text/plain": [
              "<IPython.core.display.HTML object>"
            ]
          },
          "metadata": {
            "tags": []
          }
        },
        {
          "output_type": "stream",
          "text": [
            "Saving kaggle.json to kaggle (1).json\n"
          ],
          "name": "stdout"
        },
        {
          "output_type": "execute_result",
          "data": {
            "text/plain": [
              "{'kaggle.json': b'{\"username\":\"naelchris\",\"key\":\"de76ef238b887a027594655c70954a61\"}'}"
            ]
          },
          "metadata": {
            "tags": []
          },
          "execution_count": 55
        }
      ]
    },
    {
      "cell_type": "code",
      "metadata": {
        "colab": {
          "base_uri": "https://localhost:8080/"
        },
        "id": "0TPnyWVI89Ep",
        "outputId": "19d734f4-fc1b-4f2f-fffb-962ac90dd412"
      },
      "source": [
        "!mkdir ~p ~/.kaggle\n",
        "!cp kaggle.json ~/.kaggle/\n",
        "!chmod 600 ~/.kaggle/kaggle.json"
      ],
      "execution_count": null,
      "outputs": [
        {
          "output_type": "stream",
          "text": [
            "mkdir: cannot create directory ‘~p’: File exists\n",
            "mkdir: cannot create directory ‘/root/.kaggle’: File exists\n"
          ],
          "name": "stdout"
        }
      ]
    },
    {
      "cell_type": "code",
      "metadata": {
        "colab": {
          "base_uri": "https://localhost:8080/"
        },
        "id": "gTFkh9Ia9MP2",
        "outputId": "556fcfd8-2420-4ff6-c893-0028b29b40e0"
      },
      "source": [
        "!kaggle datasets download -d grassknoted/asl-alphabet"
      ],
      "execution_count": null,
      "outputs": [
        {
          "output_type": "stream",
          "text": [
            "asl-alphabet.zip: Skipping, found more recently modified local copy (use --force to force download)\n"
          ],
          "name": "stdout"
        }
      ]
    },
    {
      "cell_type": "code",
      "metadata": {
        "colab": {
          "base_uri": "https://localhost:8080/"
        },
        "id": "rf7Domn79p6x",
        "outputId": "c1770cf4-b4f5-4300-df86-c61fdb5ad79b"
      },
      "source": [
        "!ls"
      ],
      "execution_count": null,
      "outputs": [
        {
          "output_type": "stream",
          "text": [
            " asl-alphabet.zip   kaggle.json  '~p'   sample_data\n"
          ],
          "name": "stdout"
        }
      ]
    },
    {
      "cell_type": "code",
      "metadata": {
        "id": "1dDohr5IMGRc"
      },
      "source": [
        "import zipfile\n",
        "zip_ref = zipfile.ZipFile('asl-alphabet.zip', 'r')\n",
        "zip_ref.extractall('files')\n",
        "zip_ref.close()"
      ],
      "execution_count": null,
      "outputs": []
    },
    {
      "cell_type": "code",
      "metadata": {
        "colab": {
          "base_uri": "https://localhost:8080/"
        },
        "id": "dhEmsgTa9X-u",
        "outputId": "9fed604a-4947-45ad-c34f-b7ae33e538ca"
      },
      "source": [
        "# !unzip \\*.zip  && rm *.zip\n",
        "%cd files\n",
        "!ls "
      ],
      "execution_count": null,
      "outputs": [
        {
          "output_type": "stream",
          "text": [
            "/content/files\n",
            "asl_alphabet_test  asl_alphabet_train\n"
          ],
          "name": "stdout"
        }
      ]
    },
    {
      "cell_type": "markdown",
      "metadata": {
        "id": "FxWYmn5h7zbA"
      },
      "source": [
        "### Importing the dataset from training directory <a id=2></a>"
      ]
    },
    {
      "cell_type": "code",
      "metadata": {
        "colab": {
          "base_uri": "https://localhost:8080/"
        },
        "id": "4SYZdOgCAxp2",
        "outputId": "010787fe-c8f1-4234-8585-ed8f7b0b739e"
      },
      "source": [
        "!ls"
      ],
      "execution_count": null,
      "outputs": [
        {
          "output_type": "stream",
          "text": [
            "asl_alphabet_test  asl_alphabet_train\n"
          ],
          "name": "stdout"
        }
      ]
    },
    {
      "cell_type": "code",
      "metadata": {
        "colab": {
          "background_save": true
        },
        "id": "wPzpqTQr7zbA",
        "outputId": "6122ccd6-838b-4e32-b7ae-40f32d9983e8"
      },
      "source": [
        "batch_size = 64\n",
        "imageSize = 75\n",
        "target_dims = (imageSize, imageSize, 3)\n",
        "num_classes = 29\n",
        "\n",
        "train_len = 87000\n",
        "# train_dir = '/kaggle/input/asl-alphabet/asl_alphabet_train/asl_alphabet_train/'\n",
        "train_dir = 'asl_alphabet_train/asl_alphabet_train/'\n",
        "\n",
        "\n",
        "def get_data(folder):\n",
        "    X = np.empty((train_len, imageSize, imageSize, 3), dtype=np.float32)\n",
        "    y = np.empty((train_len,), dtype=np.int)\n",
        "    cnt = 0\n",
        "    for folderName in os.listdir(folder):\n",
        "        if not folderName.startswith('.'):\n",
        "            if folderName in ['A']:\n",
        "                label = 0\n",
        "            elif folderName in ['B']:\n",
        "                label = 1\n",
        "            elif folderName in ['C']:\n",
        "                label = 2\n",
        "            elif folderName in ['D']:\n",
        "                label = 3\n",
        "            elif folderName in ['E']:\n",
        "                label = 4\n",
        "            elif folderName in ['F']:\n",
        "                label = 5\n",
        "            elif folderName in ['G']:\n",
        "                label = 6\n",
        "            elif folderName in ['H']:\n",
        "                label = 7\n",
        "            elif folderName in ['I']:\n",
        "                label = 8\n",
        "            elif folderName in ['J']:\n",
        "                label = 9\n",
        "            elif folderName in ['K']:\n",
        "                label = 10\n",
        "            elif folderName in ['L']:\n",
        "                label = 11\n",
        "            elif folderName in ['M']:\n",
        "                label = 12\n",
        "            elif folderName in ['N']:\n",
        "                label = 13\n",
        "            elif folderName in ['O']:\n",
        "                label = 14\n",
        "            elif folderName in ['P']:\n",
        "                label = 15\n",
        "            elif folderName in ['Q']:\n",
        "                label = 16\n",
        "            elif folderName in ['R']:\n",
        "                label = 17\n",
        "            elif folderName in ['S']:\n",
        "                label = 18\n",
        "            elif folderName in ['T']:\n",
        "                label = 19\n",
        "            elif folderName in ['U']:\n",
        "                label = 20\n",
        "            elif folderName in ['V']:\n",
        "                label = 21\n",
        "            elif folderName in ['W']:\n",
        "                label = 22\n",
        "            elif folderName in ['X']:\n",
        "                label = 23\n",
        "            elif folderName in ['Y']:\n",
        "                label = 24\n",
        "            elif folderName in ['Z']:\n",
        "                label = 25\n",
        "            elif folderName in ['del']:\n",
        "                label = 26\n",
        "            elif folderName in ['nothing']:\n",
        "                label = 27\n",
        "            elif folderName in ['space']:\n",
        "                label = 28           \n",
        "            else:\n",
        "                label = 29\n",
        "            for image_filename in os.listdir(folder + folderName):\n",
        "                img_file = cv2.imread(folder + folderName + '/' + image_filename)\n",
        "                if img_file is not None:\n",
        "                    img_file = skimage.transform.resize(img_file, (imageSize, imageSize, 3))\n",
        "                    img_arr = np.asarray(img_file).reshape((-1, imageSize, imageSize, 3))\n",
        "                    \n",
        "                    X[cnt] = img_arr\n",
        "                    y[cnt] = label\n",
        "                    cnt += 1\n",
        "    return X,y\n",
        "X_train, y_train = get_data(train_dir)\n",
        "print(\"Images successfully imported...\")"
      ],
      "execution_count": null,
      "outputs": [
        {
          "output_type": "stream",
          "text": [
            "Images successfully imported...\n"
          ],
          "name": "stdout"
        }
      ]
    },
    {
      "cell_type": "markdown",
      "metadata": {
        "id": "RXEl5MI87zbB"
      },
      "source": [
        "#### Checking the shape of data <a id=3></a>"
      ]
    },
    {
      "cell_type": "code",
      "metadata": {
        "colab": {
          "base_uri": "https://localhost:8080/"
        },
        "id": "K7ZO7DrQ7zbC",
        "outputId": "a0e59797-2578-406c-fe03-a04f2ef023ef"
      },
      "source": [
        "print(\"The shape of X_train is : \", X_train.shape)\n",
        "print(\"The shape of y_train is : \", y_train.shape)"
      ],
      "execution_count": null,
      "outputs": [
        {
          "output_type": "stream",
          "text": [
            "The shape of X_train is :  (87000, 75, 75, 3)\n",
            "The shape of y_train is :  (87000,)\n"
          ],
          "name": "stdout"
        }
      ]
    },
    {
      "cell_type": "markdown",
      "metadata": {
        "id": "MBptyrtb7zbC"
      },
      "source": [
        "#### Checking the shape of one image <a id=4></a>"
      ]
    },
    {
      "cell_type": "code",
      "metadata": {
        "colab": {
          "base_uri": "https://localhost:8080/"
        },
        "id": "wstBbazh7zbC",
        "outputId": "39988c5b-3ecb-4c53-8405-61709ed8d5dc"
      },
      "source": [
        "print(\"The shape of one image is : \", X_train[0].shape)"
      ],
      "execution_count": null,
      "outputs": [
        {
          "output_type": "stream",
          "text": [
            "The shape of one image is :  (75, 75, 3)\n"
          ],
          "name": "stdout"
        }
      ]
    },
    {
      "cell_type": "markdown",
      "metadata": {
        "id": "p4J1nRSG7zbD"
      },
      "source": [
        "#### Viewing the image <a id=5></a>"
      ]
    },
    {
      "cell_type": "code",
      "metadata": {
        "colab": {
          "base_uri": "https://localhost:8080/",
          "height": 268
        },
        "id": "AZzCdQTl7zbD",
        "outputId": "6a17023f-202d-4215-80a0-cee432505209"
      },
      "source": [
        "plt.imshow(X_train[10])\n",
        "plt.show()"
      ],
      "execution_count": null,
      "outputs": [
        {
          "output_type": "display_data",
          "data": {
            "image/png": "[encoded data removed]",
            "text/plain": [
              "<Figure size 432x288 with 1 Axes>"
            ]
          },
          "metadata": {
            "tags": []
          }
        }
      ]
    },
    {
      "cell_type": "markdown",
      "metadata": {
        "id": "yZCYplwP7zbD"
      },
      "source": [
        "##### Making copies of original data"
      ]
    },
    {
      "cell_type": "code",
      "metadata": {
        "colab": {
          "base_uri": "https://localhost:8080/"
        },
        "id": "3ZLQ1V067zbD",
        "outputId": "1acb406c-e290-4284-e69a-95a992598afd"
      },
      "source": [
        "X_data = X_train\n",
        "y_data = y_train\n",
        "print(\"Copies made...\")"
      ],
      "execution_count": null,
      "outputs": [
        {
          "output_type": "stream",
          "text": [
            "Copies made...\n"
          ],
          "name": "stdout"
        }
      ]
    },
    {
      "cell_type": "markdown",
      "metadata": {
        "id": "AP5jfcTR7zbE"
      },
      "source": [
        "### Data processing <a id=6></a>"
      ]
    },
    {
      "cell_type": "markdown",
      "metadata": {
        "id": "nwgZLzvO7zbE"
      },
      "source": [
        "#### Train/test split <a id=7></a>"
      ]
    },
    {
      "cell_type": "code",
      "metadata": {
        "id": "QcLEGT6u7zbE"
      },
      "source": [
        "from sklearn.model_selection import train_test_split\n",
        "\n",
        "X_train, X_test, y_train, y_test = train_test_split(X_data, y_data, test_size=0.3,random_state=42,stratify=y_data)"
      ],
      "execution_count": null,
      "outputs": []
    },
    {
      "cell_type": "markdown",
      "metadata": {
        "id": "S4lGX-Cg7zbE"
      },
      "source": [
        "#### One-Hot-Encoding <a id=8></a>"
      ]
    },
    {
      "cell_type": "code",
      "metadata": {
        "id": "WZUsC4KC7zbE"
      },
      "source": [
        "# One-Hot-Encoding the categorical data\n",
        "from tensorflow.keras.utils import to_categorical\n",
        "y_cat_train = to_categorical(y_train,29)\n",
        "y_cat_test = to_categorical(y_test,29)"
      ],
      "execution_count": null,
      "outputs": []
    },
    {
      "cell_type": "markdown",
      "metadata": {
        "id": "0GbK29SH7zbE"
      },
      "source": [
        "#### Dimension Check of variables <a id=9></a>"
      ]
    },
    {
      "cell_type": "code",
      "metadata": {
        "colab": {
          "base_uri": "https://localhost:8080/"
        },
        "id": "FlaGkoFo7zbF",
        "outputId": "5d63694c-14df-4905-b807-c5078a58678a"
      },
      "source": [
        "# Checking the dimensions of all the variables\n",
        "print(X_train.shape)\n",
        "print(y_train.shape)\n",
        "print(X_test.shape)\n",
        "print(y_test.shape)\n",
        "print(y_cat_train.shape)\n",
        "print(y_cat_test.shape)"
      ],
      "execution_count": null,
      "outputs": [
        {
          "output_type": "stream",
          "text": [
            "(60900, 75, 75, 3)\n",
            "(60900,)\n",
            "(26100, 75, 75, 3)\n",
            "(26100,)\n",
            "(60900, 29)\n",
            "(26100, 29)\n"
          ],
          "name": "stdout"
        }
      ]
    },
    {
      "cell_type": "markdown",
      "metadata": {
        "id": "1Zme8-2r7zbF"
      },
      "source": [
        "### Garbage Collection <a id=10></a>"
      ]
    },
    {
      "cell_type": "code",
      "metadata": {
        "colab": {
          "base_uri": "https://localhost:8080/"
        },
        "id": "zgHJAetM7zbF",
        "outputId": "3a0ba56f-2cf2-4871-f0fa-02b2d6618dde"
      },
      "source": [
        "# This is done to save CPU and RAM space while working on Kaggle Kernels. This will delete the specified data and save some space!\n",
        "import gc\n",
        "del X_data\n",
        "del y_data\n",
        "gc.collect()"
      ],
      "execution_count": null,
      "outputs": [
        {
          "output_type": "execute_result",
          "data": {
            "text/plain": [
              "2603"
            ]
          },
          "metadata": {
            "tags": []
          },
          "execution_count": 12
        }
      ]
    },
    {
      "cell_type": "markdown",
      "metadata": {
        "id": "UQjbaRxj7zbF"
      },
      "source": [
        "### Modeling <a id=11></a>"
      ]
    },
    {
      "cell_type": "markdown",
      "metadata": {
        "id": "TpuaGIU47zbF"
      },
      "source": [
        "#### Importing packages <a id=12></a>"
      ]
    },
    {
      "cell_type": "code",
      "metadata": {
        "colab": {
          "base_uri": "https://localhost:8080/"
        },
        "id": "I30VP8H57zbG",
        "outputId": "bcdd2b5c-f232-4a8d-c199-6abe718c7162"
      },
      "source": [
        "from keras.models import Sequential\n",
        "from keras.layers import Conv2D, MaxPooling2D, Activation, Dense, Flatten\n",
        "print(\"Packages imported...\")"
      ],
      "execution_count": null,
      "outputs": [
        {
          "output_type": "stream",
          "text": [
            "Packages imported...\n"
          ],
          "name": "stdout"
        }
      ]
    },
    {
      "cell_type": "code",
      "metadata": {
        "colab": {
          "base_uri": "https://localhost:8080/"
        },
        "id": "oWa8y1pOHumt",
        "outputId": "d9c07454-da60-403d-ce0f-95f61edc0755"
      },
      "source": [
        "!ls"
      ],
      "execution_count": null,
      "outputs": [
        {
          "output_type": "stream",
          "text": [
            "asl_alphabet_test  asl_alphabet_train\n"
          ],
          "name": "stdout"
        }
      ]
    },
    {
      "cell_type": "code",
      "metadata": {
        "colab": {
          "base_uri": "https://localhost:8080/"
        },
        "id": "W3GnRJFh99se",
        "outputId": "e474d019-7c8a-46fb-b65f-c8e3ffc1ae08"
      },
      "source": [
        "#downloding inception v3\n",
        "% cd ../\n",
        "\n",
        "!mkdir /pretrained_model"
      ],
      "execution_count": null,
      "outputs": [
        {
          "output_type": "stream",
          "text": [
            "/content\n"
          ],
          "name": "stdout"
        }
      ]
    },
    {
      "cell_type": "code",
      "metadata": {
        "colab": {
          "base_uri": "https://localhost:8080/"
        },
        "id": "PJG6gX-3-O8d",
        "outputId": "171912f5-e318-471a-ce11-6630e41c49b9"
      },
      "source": [
        "!wget --no-check-certificate \\\n",
        "  https://storage.googleapis.com/mledu-datasets/inception_v3_weights_tf_dim_ordering_tf_kernels_notop.h5 \\\n",
        "  -O /pretrained_model/inception_v3_weights_tf_dim_ordering_tf_kernels_notop.h5\n",
        "\n",
        "path_inception = f\"/pretrained_model/inception_v3_weights_tf_dim_ordering_tf_kernels_notop.h5\"\n"
      ],
      "execution_count": null,
      "outputs": [
        {
          "output_type": "stream",
          "text": [
            "--2021-05-31 15:51:25--  https://storage.googleapis.com/mledu-datasets/inception_v3_weights_tf_dim_ordering_tf_kernels_notop.h5\n",
            "Resolving storage.googleapis.com (storage.googleapis.com)... 74.125.142.128, 74.125.195.128, 74.125.20.128, ...\n",
            "Connecting to storage.googleapis.com (storage.googleapis.com)|74.125.142.128|:443... connected.\n",
            "HTTP request sent, awaiting response... 200 OK\n",
            "Length: 87910968 (84M) [application/x-hdf]\n",
            "Saving to: ‘/pretrained_model/inception_v3_weights_tf_dim_ordering_tf_kernels_notop.h5’\n",
            "\n",
            "/pretrained_model/i 100%[===================>]  83.84M  92.3MB/s    in 0.9s    \n",
            "\n",
            "2021-05-31 15:51:26 (92.3 MB/s) - ‘/pretrained_model/inception_v3_weights_tf_dim_ordering_tf_kernels_notop.h5’ saved [87910968/87910968]\n",
            "\n"
          ],
          "name": "stdout"
        }
      ]
    },
    {
      "cell_type": "markdown",
      "metadata": {
        "id": "EwiT-90d7zbG"
      },
      "source": [
        "#### Building model <a id=13></a>"
      ]
    },
    {
      "cell_type": "code",
      "metadata": {
        "id": "1cPbInbE7zbG"
      },
      "source": [
        "# model = Sequential()\n",
        "\n",
        "# model.add(Conv2D(32, (5, 5), input_shape=(64, 64, 3)))\n",
        "# model.add(Activation('relu'))\n",
        "# model.add(MaxPooling2D((2, 2)))\n",
        "\n",
        "# model.add(Conv2D(64, (3, 3)))\n",
        "# model.add(Activation('relu'))\n",
        "# model.add(MaxPooling2D((2, 2)))\n",
        "\n",
        "# model.add(Conv2D(64, (3, 3)))\n",
        "# model.add(Activation('relu'))\n",
        "# model.add(MaxPooling2D((2, 2)))\n",
        "\n",
        "# model.add(Flatten())\n",
        "\n",
        "# model.add(Dense(128, activation='relu'))\n",
        "\n",
        "# model.add(Dense(29, activation='softmax'))\n",
        "\n",
        "# Import the inception model  \n",
        "from tensorflow.keras.applications.inception_v3 import InceptionV3\n",
        "\n",
        "# Create an instance of the inception model from the local pre-trained weights\n",
        "local_weights_file = path_inception\n",
        "\n",
        "pre_trained_model = InceptionV3(\n",
        "    input_shape=(75, 75, 3),\n",
        "    include_top=False,\n",
        "    weights=None\n",
        ")\n",
        "pre_trained_model.load_weights(local_weights_file)\n",
        "\n",
        "# Make all the layers in the pre-trained model non-trainable\n",
        "for layer in pre_trained_model.layers:\n",
        "    layer.trainable = False\n",
        "\n",
        "#model.summary()"
      ],
      "execution_count": null,
      "outputs": []
    },
    {
      "cell_type": "code",
      "metadata": {
        "colab": {
          "base_uri": "https://localhost:8080/"
        },
        "id": "QWz-pWQv0U-N",
        "outputId": "daed0b61-676a-47d9-9136-50ff011a2249"
      },
      "source": [
        "last_layer = pre_trained_model.get_layer('mixed7')\n",
        "print('last layer output shape: ', last_layer.output_shape)\n",
        "last_output = last_layer.output"
      ],
      "execution_count": null,
      "outputs": [
        {
          "output_type": "stream",
          "text": [
            "last layer output shape:  (None, 3, 3, 768)\n"
          ],
          "name": "stdout"
        }
      ]
    },
    {
      "cell_type": "code",
      "metadata": {
        "id": "hc1yzeLB0XzA"
      },
      "source": [
        "from tensorflow.keras import layers\n",
        "from tensorflow.keras import Model\n",
        "\n",
        "# Flatten the output layer to 1 dimension\n",
        "x = layers.Flatten()(last_output)\n",
        "# Add a fully connected layer with 1,024 hidden units and ReLU activation\n",
        "x = layers.Dense(1024, activation='relu')(x)\n",
        "# Add a dropout rate of 0.2\n",
        "x = layers.Dropout(0.3)(x)                  \n",
        "# Add a final sigmoid layer for classification\n",
        "x = layers.Dense(29, activation='softmax')(x) \n",
        "\n",
        "model = Model(pre_trained_model.input, x) "
      ],
      "execution_count": null,
      "outputs": []
    },
    {
      "cell_type": "markdown",
      "metadata": {
        "id": "2bLK4FCv7zbG"
      },
      "source": [
        "#### Early Stopping and Compiling <a id=14></a>"
      ]
    },
    {
      "cell_type": "markdown",
      "metadata": {
        "id": "cGxhYRt77zbG"
      },
      "source": [
        "##### Early Stopping"
      ]
    },
    {
      "cell_type": "markdown",
      "metadata": {
        "id": "85QshC6H7zbH"
      },
      "source": [
        "Early Stopping is done to make sure the model fitting stops at the most optimized accuracy point. After the early stopping point, the model might start overfitting. For testing purposes, this step can be skipped and complete training can be done."
      ]
    },
    {
      "cell_type": "code",
      "metadata": {
        "id": "EITwvgiZ7zbH"
      },
      "source": [
        "from tensorflow.keras.callbacks import EarlyStopping\n",
        "early_stop = EarlyStopping(monitor='val_loss',patience=2)"
      ],
      "execution_count": null,
      "outputs": []
    },
    {
      "cell_type": "markdown",
      "metadata": {
        "id": "e0cKH-u57zbH"
      },
      "source": [
        "##### Compiling"
      ]
    },
    {
      "cell_type": "code",
      "metadata": {
        "id": "nl1hS1jc7zbH"
      },
      "source": [
        "opt = tf.keras.optimizers.RMSprop(learning_rate=0.0001)\n",
        "model.compile(optimizer=opt,\n",
        "              loss='categorical_crossentropy',\n",
        "              metrics=['accuracy'])"
      ],
      "execution_count": null,
      "outputs": []
    },
    {
      "cell_type": "markdown",
      "metadata": {
        "id": "x4LUV5o87zbH"
      },
      "source": [
        "#### Model fitting <a id=15></a>"
      ]
    },
    {
      "cell_type": "code",
      "metadata": {
        "colab": {
          "base_uri": "https://localhost:8080/"
        },
        "id": "kjqjoQkS7zbH",
        "outputId": "57cfd97b-3e10-4527-f9f7-94cd68d54cfe"
      },
      "source": [
        "model.fit(X_train, y_cat_train,\n",
        "          epochs=50,\n",
        "          batch_size=64,\n",
        "          verbose=2,\n",
        "          validation_data=(X_test, y_cat_test),\n",
        "         callbacks=[early_stop])"
      ],
      "execution_count": null,
      "outputs": [
        {
          "output_type": "stream",
          "text": [
            "Epoch 1/50\n",
            "952/952 - 57s - loss: 0.3984 - accuracy: 0.8964 - val_loss: 0.0785 - val_accuracy: 0.9795\n",
            "Epoch 2/50\n",
            "952/952 - 26s - loss: 0.0479 - accuracy: 0.9876 - val_loss: 0.0257 - val_accuracy: 0.9930\n",
            "Epoch 3/50\n",
            "952/952 - 23s - loss: 0.0204 - accuracy: 0.9946 - val_loss: 0.0097 - val_accuracy: 0.9981\n",
            "Epoch 4/50\n",
            "952/952 - 23s - loss: 0.0104 - accuracy: 0.9973 - val_loss: 0.0084 - val_accuracy: 0.9977\n",
            "Epoch 5/50\n",
            "952/952 - 27s - loss: 0.0071 - accuracy: 0.9981 - val_loss: 0.0083 - val_accuracy: 0.9975\n",
            "Epoch 6/50\n",
            "952/952 - 24s - loss: 0.0047 - accuracy: 0.9988 - val_loss: 0.0036 - val_accuracy: 0.9990\n",
            "Epoch 7/50\n",
            "952/952 - 24s - loss: 0.0033 - accuracy: 0.9992 - val_loss: 0.0033 - val_accuracy: 0.9990\n",
            "Epoch 8/50\n",
            "952/952 - 24s - loss: 0.0027 - accuracy: 0.9993 - val_loss: 0.0027 - val_accuracy: 0.9993\n",
            "Epoch 9/50\n",
            "952/952 - 24s - loss: 0.0020 - accuracy: 0.9994 - val_loss: 0.0027 - val_accuracy: 0.9993\n",
            "Epoch 10/50\n",
            "952/952 - 24s - loss: 0.0018 - accuracy: 0.9994 - val_loss: 0.0015 - val_accuracy: 0.9996\n",
            "Epoch 11/50\n",
            "952/952 - 24s - loss: 0.0014 - accuracy: 0.9996 - val_loss: 0.0025 - val_accuracy: 0.9990\n",
            "Epoch 12/50\n",
            "952/952 - 27s - loss: 0.0011 - accuracy: 0.9997 - val_loss: 0.0023 - val_accuracy: 0.9993\n"
          ],
          "name": "stdout"
        },
        {
          "output_type": "execute_result",
          "data": {
            "text/plain": [
              "<tensorflow.python.keras.callbacks.History at 0x7faa4a29ac90>"
            ]
          },
          "metadata": {
            "tags": []
          },
          "execution_count": 23
        }
      ]
    },
    {
      "cell_type": "markdown",
      "metadata": {
        "id": "bPfVuEA87zbI"
      },
      "source": [
        "#### Model metrics <a id=16></a>"
      ]
    },
    {
      "cell_type": "markdown",
      "metadata": {
        "id": "m0FaWEo27zbI"
      },
      "source": [
        "##### Metrics from model history"
      ]
    },
    {
      "cell_type": "code",
      "metadata": {
        "colab": {
          "base_uri": "https://localhost:8080/",
          "height": 442
        },
        "id": "CkzBUHLO7zbI",
        "outputId": "e4de6bd2-106a-44bd-f0da-8a2e107c0402"
      },
      "source": [
        "metrics = pd.DataFrame(model.history.history)\n",
        "print(\"The model metrics are\")\n",
        "metrics"
      ],
      "execution_count": null,
      "outputs": [
        {
          "output_type": "stream",
          "text": [
            "The model metrics are\n"
          ],
          "name": "stdout"
        },
        {
          "output_type": "execute_result",
          "data": {
            "text/html": [
              "<div>\n",
              "<style scoped>\n",
              "    .dataframe tbody tr th:only-of-type {\n",
              "        vertical-align: middle;\n",
              "    }\n",
              "\n",
              "    .dataframe tbody tr th {\n",
              "        vertical-align: top;\n",
              "    }\n",
              "\n",
              "    .dataframe thead th {\n",
              "        text-align: right;\n",
              "    }\n",
              "</style>\n",
              "<table border=\"1\" class=\"dataframe\">\n",
              "  <thead>\n",
              "    <tr style=\"text-align: right;\">\n",
              "      <th></th>\n",
              "      <th>loss</th>\n",
              "      <th>accuracy</th>\n",
              "      <th>val_loss</th>\n",
              "      <th>val_accuracy</th>\n",
              "    </tr>\n",
              "  </thead>\n",
              "  <tbody>\n",
              "    <tr>\n",
              "      <th>0</th>\n",
              "      <td>0.398428</td>\n",
              "      <td>0.896404</td>\n",
              "      <td>0.078485</td>\n",
              "      <td>0.979540</td>\n",
              "    </tr>\n",
              "    <tr>\n",
              "      <th>1</th>\n",
              "      <td>0.047862</td>\n",
              "      <td>0.987586</td>\n",
              "      <td>0.025722</td>\n",
              "      <td>0.992950</td>\n",
              "    </tr>\n",
              "    <tr>\n",
              "      <th>2</th>\n",
              "      <td>0.020411</td>\n",
              "      <td>0.994581</td>\n",
              "      <td>0.009705</td>\n",
              "      <td>0.998123</td>\n",
              "    </tr>\n",
              "    <tr>\n",
              "      <th>3</th>\n",
              "      <td>0.010406</td>\n",
              "      <td>0.997291</td>\n",
              "      <td>0.008433</td>\n",
              "      <td>0.997739</td>\n",
              "    </tr>\n",
              "    <tr>\n",
              "      <th>4</th>\n",
              "      <td>0.007082</td>\n",
              "      <td>0.998145</td>\n",
              "      <td>0.008312</td>\n",
              "      <td>0.997548</td>\n",
              "    </tr>\n",
              "    <tr>\n",
              "      <th>5</th>\n",
              "      <td>0.004689</td>\n",
              "      <td>0.998752</td>\n",
              "      <td>0.003562</td>\n",
              "      <td>0.999042</td>\n",
              "    </tr>\n",
              "    <tr>\n",
              "      <th>6</th>\n",
              "      <td>0.003308</td>\n",
              "      <td>0.999195</td>\n",
              "      <td>0.003305</td>\n",
              "      <td>0.999004</td>\n",
              "    </tr>\n",
              "    <tr>\n",
              "      <th>7</th>\n",
              "      <td>0.002701</td>\n",
              "      <td>0.999261</td>\n",
              "      <td>0.002690</td>\n",
              "      <td>0.999272</td>\n",
              "    </tr>\n",
              "    <tr>\n",
              "      <th>8</th>\n",
              "      <td>0.001991</td>\n",
              "      <td>0.999376</td>\n",
              "      <td>0.002673</td>\n",
              "      <td>0.999310</td>\n",
              "    </tr>\n",
              "    <tr>\n",
              "      <th>9</th>\n",
              "      <td>0.001781</td>\n",
              "      <td>0.999376</td>\n",
              "      <td>0.001515</td>\n",
              "      <td>0.999579</td>\n",
              "    </tr>\n",
              "    <tr>\n",
              "      <th>10</th>\n",
              "      <td>0.001442</td>\n",
              "      <td>0.999622</td>\n",
              "      <td>0.002494</td>\n",
              "      <td>0.998966</td>\n",
              "    </tr>\n",
              "    <tr>\n",
              "      <th>11</th>\n",
              "      <td>0.001124</td>\n",
              "      <td>0.999688</td>\n",
              "      <td>0.002311</td>\n",
              "      <td>0.999272</td>\n",
              "    </tr>\n",
              "  </tbody>\n",
              "</table>\n",
              "</div>"
            ],
            "text/plain": [
              "        loss  accuracy  val_loss  val_accuracy\n",
              "0   0.398428  0.896404  0.078485      0.979540\n",
              "1   0.047862  0.987586  0.025722      0.992950\n",
              "2   0.020411  0.994581  0.009705      0.998123\n",
              "3   0.010406  0.997291  0.008433      0.997739\n",
              "4   0.007082  0.998145  0.008312      0.997548\n",
              "5   0.004689  0.998752  0.003562      0.999042\n",
              "6   0.003308  0.999195  0.003305      0.999004\n",
              "7   0.002701  0.999261  0.002690      0.999272\n",
              "8   0.001991  0.999376  0.002673      0.999310\n",
              "9   0.001781  0.999376  0.001515      0.999579\n",
              "10  0.001442  0.999622  0.002494      0.998966\n",
              "11  0.001124  0.999688  0.002311      0.999272"
            ]
          },
          "metadata": {
            "tags": []
          },
          "execution_count": 24
        }
      ]
    },
    {
      "cell_type": "markdown",
      "metadata": {
        "id": "V5S0e7tA7zbI"
      },
      "source": [
        "##### Plotting the training loss"
      ]
    },
    {
      "cell_type": "code",
      "metadata": {
        "colab": {
          "base_uri": "https://localhost:8080/",
          "height": 265
        },
        "id": "IxY39RnE7zbI",
        "outputId": "376b3e1e-c757-4078-d24e-1fc5ad9b4c17"
      },
      "source": [
        "metrics[['loss','val_loss']].plot()\n",
        "plt.show()"
      ],
      "execution_count": null,
      "outputs": [
        {
          "output_type": "display_data",
          "data": {
            "image/png": "[encoded data removed]",
            "text/plain": [
              "<Figure size 432x288 with 1 Axes>"
            ]
          },
          "metadata": {
            "tags": []
          }
        }
      ]
    },
    {
      "cell_type": "markdown",
      "metadata": {
        "id": "O_FY9dZU7zbI"
      },
      "source": [
        "##### Plotting the testing loss"
      ]
    },
    {
      "cell_type": "code",
      "metadata": {
        "colab": {
          "base_uri": "https://localhost:8080/",
          "height": 265
        },
        "id": "b2ia0Kna7zbJ",
        "outputId": "65f10c21-65fa-478d-db5c-c8737df75b69"
      },
      "source": [
        "metrics[['accuracy','val_accuracy']].plot()\n",
        "plt.show()"
      ],
      "execution_count": null,
      "outputs": [
        {
          "output_type": "display_data",
          "data": {
            "image/png": "[encoded data removed]",
            "text/plain": [
              "<Figure size 432x288 with 1 Axes>"
            ]
          },
          "metadata": {
            "tags": []
          }
        }
      ]
    },
    {
      "cell_type": "markdown",
      "metadata": {
        "id": "ioichOWl7zbJ"
      },
      "source": [
        "##### Model evaluation"
      ]
    },
    {
      "cell_type": "code",
      "metadata": {
        "colab": {
          "base_uri": "https://localhost:8080/"
        },
        "id": "9THTk0rj7zbJ",
        "outputId": "5ce0b39d-975e-4689-cd55-6eac32085981"
      },
      "source": [
        "model.evaluate(X_test,y_cat_test,verbose=0)"
      ],
      "execution_count": null,
      "outputs": [
        {
          "output_type": "execute_result",
          "data": {
            "text/plain": [
              "[0.0023111598566174507, 0.9992720484733582]"
            ]
          },
          "metadata": {
            "tags": []
          },
          "execution_count": 27
        }
      ]
    },
    {
      "cell_type": "code",
      "metadata": {
        "colab": {
          "base_uri": "https://localhost:8080/"
        },
        "id": "yzPZevVLWXGm",
        "outputId": "a035d144-81bb-489c-c43d-14fdbae9d601"
      },
      "source": [
        "import cv2\n",
        "import os\n",
        "import numpy as np\n",
        "from matplotlib import pyplot as plt\n",
        "from keras.preprocessing.image import img_to_array\n",
        "from keras.models import load_model\n",
        "alphabet=['A','B','C','D','E','F','G','H','I','J','K','L','M','N','O','P','Q','R','S','T','U','V','W','X','Y','Z','del','nothing','space']\n",
        "len(alphabet)"
      ],
      "execution_count": null,
      "outputs": [
        {
          "output_type": "execute_result",
          "data": {
            "text/plain": [
              "29"
            ]
          },
          "metadata": {
            "tags": []
          },
          "execution_count": 3
        }
      ]
    },
    {
      "cell_type": "code",
      "metadata": {
        "colab": {
          "base_uri": "https://localhost:8080/"
        },
        "id": "2ET0mpK-Xw13",
        "outputId": "3fb47671-22df-4047-97f1-14745ecaf270"
      },
      "source": [
        "X_test[0].shape"
      ],
      "execution_count": null,
      "outputs": [
        {
          "output_type": "execute_result",
          "data": {
            "text/plain": [
              "(75, 75, 3)"
            ]
          },
          "metadata": {
            "tags": []
          },
          "execution_count": 29
        }
      ]
    },
    {
      "cell_type": "code",
      "metadata": {
        "id": "QXRhHZ_uYRqx"
      },
      "source": [
        "# IMAGE_PATH = os.path.join('..','..','als2.jpg')\n",
        "# img = cv2.imread(IMAGE_PATH)\n",
        "# img_file = skimage.transform.resize(img, (64, 64, 3))\n",
        "# img_arr = np.asarray(img_file).reshape((-1, 64, 64, 3))\n",
        "# img_arr.shape"
      ],
      "execution_count": null,
      "outputs": []
    },
    {
      "cell_type": "code",
      "metadata": {
        "colab": {
          "base_uri": "https://localhost:8080/"
        },
        "id": "T8p2uEpHYWBz",
        "outputId": "1f018430-f581-444a-f338-24d8ba1e0ee7"
      },
      "source": [
        "proba = model.predict_classes(img_arr)\n",
        "idx = np.argmax(proba)\n",
        "idx"
      ],
      "execution_count": null,
      "outputs": [
        {
          "output_type": "stream",
          "text": [
            "/usr/local/lib/python3.7/dist-packages/keras/engine/sequential.py:450: UserWarning: `model.predict_classes()` is deprecated and will be removed after 2021-01-01. Please use instead:* `np.argmax(model.predict(x), axis=-1)`,   if your model does multi-class classification   (e.g. if it uses a `softmax` last-layer activation).* `(model.predict(x) > 0.5).astype(\"int32\")`,   if your model does binary classification   (e.g. if it uses a `sigmoid` last-layer activation).\n",
            "  warnings.warn('`model.predict_classes()` is deprecated and '\n"
          ],
          "name": "stderr"
        },
        {
          "output_type": "execute_result",
          "data": {
            "text/plain": [
              "0"
            ]
          },
          "metadata": {
            "tags": []
          },
          "execution_count": 73
        }
      ]
    },
    {
      "cell_type": "code",
      "metadata": {
        "id": "GwSCyRrW3CO4"
      },
      "source": [
        "IMAGE_PATH = os.path.join('files','asl_alphabet_test','asl_alphabet_test','B_test')\n",
        "img = cv2.imread(IMAGE_PATH)\n",
        "img"
      ],
      "execution_count": null,
      "outputs": []
    },
    {
      "cell_type": "code",
      "metadata": {
        "colab": {
          "base_uri": "https://localhost:8080/",
          "height": 34
        },
        "id": "v-7MX2MSXHfD",
        "outputId": "f0267be7-2ed0-435f-c749-6c821279fb71"
      },
      "source": [
        "def classify(image):\n",
        "  # image = skimage.transform.resize(image, (64, 64, 3))\n",
        "  # img_arr = np.asarray(img_file).reshape((-1, 64, 64, 3))\n",
        "  proba = model.predict(image)\n",
        "  idx = np.argmax(proba)\n",
        "  return alphabet[idx]\n",
        "\n",
        "#masukan gambar disini\n",
        "IMAGE_PATH = os.path.join('..','..','16690.jpg')\n",
        "#IMAGE_PATH = os.path.join('78125.jpg')\n",
        "img = cv2.imread(IMAGE_PATH)\n",
        "img_file = skimage.transform.resize(img, (75, 75, 3))\n",
        "img_arr = np.asarray(img_file).reshape((-1, 75, 75, 3))\n",
        "classify(img_arr)"
      ],
      "execution_count": null,
      "outputs": [
        {
          "output_type": "execute_result",
          "data": {
            "application/vnd.google.colaboratory.intrinsic+json": {
              "type": "string"
            },
            "text/plain": [
              "'Y'"
            ]
          },
          "metadata": {
            "tags": []
          },
          "execution_count": 14
        }
      ]
    },
    {
      "cell_type": "markdown",
      "metadata": {
        "id": "4iZcj2RA7zbJ"
      },
      "source": [
        "##### Classification report"
      ]
    },
    {
      "cell_type": "code",
      "metadata": {
        "id": "4TJnmCw27zbK",
        "outputId": "7e7458c3-7dca-4a85-ccb8-fd2e899fbced"
      },
      "source": [
        "from sklearn.metrics import classification_report, confusion_matrix\n",
        "print(classification_report(y_test,predictions))"
      ],
      "execution_count": null,
      "outputs": [
        {
          "output_type": "stream",
          "text": [
            "              precision    recall  f1-score   support\n",
            "\n",
            "           0       1.00      1.00      1.00       900\n",
            "           1       1.00      0.97      0.98       900\n",
            "           2       1.00      1.00      1.00       900\n",
            "           3       1.00      1.00      1.00       900\n",
            "           4       0.99      0.99      0.99       900\n",
            "           5       1.00      1.00      1.00       900\n",
            "           6       1.00      0.97      0.99       900\n",
            "           7       1.00      0.99      0.99       900\n",
            "           8       0.99      1.00      0.99       900\n",
            "           9       0.99      1.00      1.00       900\n",
            "          10       0.99      0.96      0.98       900\n",
            "          11       0.99      1.00      1.00       900\n",
            "          12       1.00      0.99      0.99       900\n",
            "          13       0.99      1.00      0.99       900\n",
            "          14       1.00      0.99      1.00       900\n",
            "          15       0.98      1.00      0.99       900\n",
            "          16       1.00      1.00      1.00       900\n",
            "          17       0.97      0.98      0.98       900\n",
            "          18       0.99      0.99      0.99       900\n",
            "          19       1.00      0.99      0.99       900\n",
            "          20       0.98      0.98      0.98       900\n",
            "          21       0.95      0.99      0.97       900\n",
            "          22       0.99      1.00      1.00       900\n",
            "          23       1.00      1.00      1.00       900\n",
            "          24       1.00      1.00      1.00       900\n",
            "          25       1.00      1.00      1.00       900\n",
            "          26       1.00      1.00      1.00       900\n",
            "          27       1.00      1.00      1.00       900\n",
            "          28       1.00      1.00      1.00       900\n",
            "\n",
            "    accuracy                           0.99     26100\n",
            "   macro avg       0.99      0.99      0.99     26100\n",
            "weighted avg       0.99      0.99      0.99     26100\n",
            "\n"
          ],
          "name": "stdout"
        }
      ]
    },
    {
      "cell_type": "markdown",
      "metadata": {
        "id": "IDT-QtBa7zbK"
      },
      "source": [
        "#### Saving the model <a id=18></a>"
      ]
    },
    {
      "cell_type": "code",
      "metadata": {
        "colab": {
          "base_uri": "https://localhost:8080/"
        },
        "id": "PxHwJDvf7zbK",
        "outputId": "48d7772a-fdcc-4b0d-86b8-c6daa9a69f34"
      },
      "source": [
        "# from keras.models import load_model\n",
        "model.save('ASL_transfer_learning.h5')\n",
        "print(\"Model saved successfully...\")"
      ],
      "execution_count": null,
      "outputs": [
        {
          "output_type": "stream",
          "text": [
            "Model saved successfully...\n"
          ],
          "name": "stdout"
        }
      ]
    }
  ]
}